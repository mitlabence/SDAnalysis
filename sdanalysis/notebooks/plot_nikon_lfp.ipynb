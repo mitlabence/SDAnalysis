{
 "cells": [
  {
   "cell_type": "code",
   "execution_count": 1,
   "metadata": {},
   "outputs": [],
   "source": [
    "import sys\n",
    "import os\n",
    "import pandas as pd\n",
    "notebook_dir = os.getcwd()\n",
    "sys.path.insert(0, os.path.abspath(os.path.join(notebook_dir, '..')))  # Add the project root directory to the path\n",
    "import custom_io as cio\n",
    "import env_reader\n",
    "import matplotlib.pyplot as plt\n",
    "import h5py\n",
    "import numpy as np"
   ]
  },
  {
   "cell_type": "code",
   "execution_count": 2,
   "metadata": {},
   "outputs": [],
   "source": [
    "save_fig = True"
   ]
  },
  {
   "cell_type": "code",
   "execution_count": 3,
   "metadata": {},
   "outputs": [],
   "source": [
    "er = env_reader.read_env()\n",
    "output_dir = er[\"OUTPUT_FOLDER\"]"
   ]
  },
  {
   "cell_type": "code",
   "execution_count": 4,
   "metadata": {},
   "outputs": [],
   "source": [
    "def map_window_type(win_type: str):\n",
    "    \"\"\"\n",
    "    Convert the window type to a standard naming convention\n",
    "\n",
    "    Args:\n",
    "        win_type (str): _description_\n",
    "\n",
    "    Returns:\n",
    "        _type_: _description_\n",
    "    \"\"\"\n",
    "    if \"ca1\" in win_type.lower():\n",
    "        return \"CA1\"\n",
    "    if \"cx\" in win_type.lower() or \"ctx\" in win_type.lower() or \"nc\" in win_type.lower():\n",
    "        return \"CTX\""
   ]
  },
  {
   "cell_type": "code",
   "execution_count": 5,
   "metadata": {},
   "outputs": [],
   "source": [
    "fpath_assembled_traces = cio.open_file(\"Open assembled traces h5 file\")"
   ]
  },
  {
   "cell_type": "code",
   "execution_count": 6,
   "metadata": {},
   "outputs": [],
   "source": [
    "dict_traces = dict()\n",
    "with h5py.File(fpath_assembled_traces, \"r\") as f:\n",
    "    for uuid in f.keys():\n",
    "        has_lfp = f[uuid].attrs['has_lfp']\n",
    "        n_recordings = len(f[uuid].attrs[\"recording_break_points\"][()])\n",
    "        if n_recordings > 1:  # each recording should have its own lfp\n",
    "            has_lfp = has_lfp.all()\n",
    "        segment_type_break_points_lfp = None if not has_lfp else f[uuid].attrs['segment_type_break_points_lfp'][()] \n",
    "        dict_traces[uuid] = {\n",
    "            'mouse_id': f[uuid].attrs['mouse_id'],\n",
    "            'window_type': map_window_type(f[uuid].attrs['window_type']),\n",
    "            'has_lfp': has_lfp,\n",
    "            'lfp_t': f[uuid]['lfp_t'][()],\n",
    "            'lfp_y': f[uuid]['lfp_y'][()],\n",
    "            'lfp_mov_y': f[uuid]['lfp_mov_y'][()],\n",
    "            'lv_speed': f[uuid]['lv_speed'][()],\n",
    "            'lv_t_s': f[uuid]['lv_t_s'][()],\n",
    "            'mean_fluo': f[uuid]['mean_fluo'][()],\n",
    "            'segment_type_break_points': f[uuid].attrs['segment_type_break_points'],\n",
    "            'segment_type_break_points_lfp': segment_type_break_points_lfp,\n",
    "        }"
   ]
  },
  {
   "cell_type": "code",
   "execution_count": 7,
   "metadata": {},
   "outputs": [],
   "source": [
    "uuids_list = list(dict_traces.keys())"
   ]
  },
  {
   "cell_type": "code",
   "execution_count": 8,
   "metadata": {},
   "outputs": [],
   "source": [
    "def plot_fluo_lfp(uuid, t_before_sz_begin=60):\n",
    "    has_lfp = dict_traces[uuid]['has_lfp']\n",
    "    if not has_lfp:\n",
    "        return\n",
    "    i_begin_sz = dict_traces[uuid]['segment_type_break_points'][1]\n",
    "    i_end_sz = dict_traces[uuid]['segment_type_break_points'][2]\n",
    "    i_end_sz_lfp = dict_traces[uuid]['segment_type_break_points_lfp'][2]\n",
    "    t_sz_begin = dict_traces[uuid]['lv_t_s'][i_begin_sz]\n",
    "    # get 10 s before sz\n",
    "    i_begin_plot =  dict_traces[uuid]['lv_t_s'].searchsorted(t_sz_begin - t_before_sz_begin)\n",
    "    i_begin_plot_lfp = dict_traces[uuid]['lfp_t'].searchsorted(t_sz_begin - t_before_sz_begin)\n",
    "    fluo_x = dict_traces[uuid]['lv_t_s'][i_begin_plot:i_end_sz]\n",
    "    fluo_y = dict_traces[uuid]['mean_fluo'][i_begin_plot:i_end_sz]\n",
    "    lfp_x = dict_traces[uuid]['lfp_t'][i_begin_plot_lfp:i_end_sz_lfp]\n",
    "    lfp_y = dict_traces[uuid]['lfp_y'][i_begin_plot_lfp:i_end_sz_lfp]\n",
    "    fig, axs = plt.subplots(2, 1, figsize=(15, 10), sharex=True)\n",
    "    axs[0].plot(fluo_x, fluo_y, linewidth=0.5)\n",
    "    axs[1].plot(lfp_x, lfp_y, linewidth=0.5, color=\"red\")\n",
    "    plt.suptitle(f\"Mouse {dict_traces[uuid]['mouse_id']}, window type {dict_traces[uuid]['window_type']}\")\n",
    "    plt.show()"
   ]
  },
  {
   "cell_type": "code",
   "execution_count": 37,
   "metadata": {},
   "outputs": [],
   "source": [
    "dict_sz_begin_lfp_s = {\n",
    "    \"2251bba132cf45fa839d3214d1651392\": 293.6,\n",
    "    \"7b9c17d8a1b0416daf65621680848b6a\": 328.35,\n",
    "    \"9e75d7135137444492d104c461ddcaac\": 328.25,\n",
    "    \"c7b29d28248e493eab02288b85e3adee\": 328.25,\n",
    "    \"cd3c1e0e3c284a89891d2e4d9a7461f4\": 315.3,\n",
    "    \"f5ccb81a34bb434482e2498bfdf88784\": 325}\n",
    "\n",
    "# the optical sz begin is already quantified. Optical sz end is not properly quantified, it was marking the appearance of SD waves (CA1) or a rough end (CTX)\n",
    "dict_sz_begin_optical_s = {\n",
    "    '2251bba132cf45fa839d3214d1651392': 328.3,\n",
    "    '7b9c17d8a1b0416daf65621680848b6a': 328.24,\n",
    "    '9e75d7135137444492d104c461ddcaac': 328.23,\n",
    "    'c7b29d28248e493eab02288b85e3adee': 328.25,\n",
    "    'cd3c1e0e3c284a89891d2e4d9a7461f4': 319.6,\n",
    "    'f5ccb81a34bb434482e2498bfdf88784': 328\n",
    "}\n",
    "\n",
    "\n",
    "dict_sz_end_optical_s = {\n",
    "    \"2251bba132cf45fa839d3214d1651392\": 360.5,\n",
    "    \"7b9c17d8a1b0416daf65621680848b6a\": 347.5,\n",
    "    \"9e75d7135137444492d104c461ddcaac\": 342.7,\n",
    "    \"c7b29d28248e493eab02288b85e3adee\": 347.2,\n",
    "    \"cd3c1e0e3c284a89891d2e4d9a7461f4\": 390,\n",
    "    \"f5ccb81a34bb434482e2498bfdf88784\": 367.5\n",
    "}\n",
    "\n",
    "dict_sz_end_lfp_s = {\n",
    "    \"2251bba132cf45fa839d3214d1651392\": 374,\n",
    "    \"7b9c17d8a1b0416daf65621680848b6a\": 347.5,\n",
    "    \"9e75d7135137444492d104c461ddcaac\": 343,\n",
    "    \"c7b29d28248e493eab02288b85e3adee\": 347.5,\n",
    "    \"cd3c1e0e3c284a89891d2e4d9a7461f4\": 396,\n",
    "    \"f5ccb81a34bb434482e2498bfdf88784\": 367.7\n",
    "}"
   ]
  },
  {
   "cell_type": "code",
   "execution_count": null,
   "metadata": {},
   "outputs": [],
   "source": [
    "# overview plot\n",
    "n_recordings = len(dict_sz_begin_lfp_s)\n",
    "fig, axs = plt.subplots(2*n_recordings, 1,figsize=(15, 10*n_recordings))\n",
    "i_plot = 0\n",
    "t_offset = 10  # +- 5 s to plot\n",
    "for uuid in dict_sz_begin_lfp_s.keys():\n",
    "    i_begin_plot = dict_traces[uuid]['segment_type_break_points'][1]\n",
    "    i_end_plot_lfp = dict_traces[uuid]['segment_type_break_points_lfp'][2]\n",
    "    t_sz_end_optical = dict_sz_end_optical_s[uuid]\n",
    "    t_sz_begin_optical = dict_sz_begin_optical_s[uuid]\n",
    "    t_sz_begin_lfp = dict_sz_begin_lfp_s[uuid]\n",
    "    t_sz_end_optical = dict_sz_end_optical_s[uuid]\n",
    "    t_sz_end_lfp = dict_sz_end_lfp_s[uuid]\n",
    "    i_end_plot = dict_traces[uuid][\"lv_t_s\"].searchsorted(t_sz_end_optical)\n",
    "\n",
    "    t_begin_plot = min(t_sz_begin_optical, t_sz_begin_lfp) - t_offset\n",
    "    t_end_plot = max(t_sz_end_optical, t_sz_end_lfp) + t_offset\n",
    "\n",
    "    i_begin_plot = dict_traces[uuid]['lv_t_s'].searchsorted(t_begin_plot)\n",
    "    i_end_plot = dict_traces[uuid]['lv_t_s'].searchsorted(t_end_plot)\n",
    "    i_begin_plot_lfp = dict_traces[uuid]['lfp_t'].searchsorted(t_begin_plot)\n",
    "    i_end_plot_lfp = dict_traces[uuid]['lfp_t'].searchsorted(t_end_plot)\n",
    "\n",
    "    fluo_x = dict_traces[uuid]['lv_t_s'][i_begin_plot:i_end_plot]\n",
    "    fluo_y = dict_traces[uuid]['mean_fluo'][i_begin_plot:i_end_plot]\n",
    "    lfp_x = dict_traces[uuid]['lfp_t'][i_begin_plot_lfp:i_end_plot_lfp]\n",
    "    lfp_y = dict_traces[uuid]['lfp_y'][i_begin_plot_lfp:i_end_plot_lfp]\n",
    "    axs[i_plot].plot(fluo_x, fluo_y, linewidth=0.5, color=\"green\")\n",
    "    axs[i_plot].set_title(f\"{uuid}: {dict_traces[uuid]['mouse_id']}, {dict_traces[uuid]['window_type']}\")\n",
    "    axs[i_plot].vlines([t_sz_begin_lfp, t_sz_end_lfp], ymin=np.min(fluo_y), ymax=np.max(fluo_y), color=\"blue\")  # lfp seizure start, end\n",
    "    axs[i_plot].vlines([t_sz_begin_optical, t_sz_end_optical], ymin=np.min(fluo_y), ymax=np.max(fluo_y), color=\"green\")  # optical seizure start, end\n",
    "    axs[i_plot].set_xlim([t_begin_plot, t_end_plot])\n",
    "    i_plot += 1\n",
    "    axs[i_plot].plot(lfp_x, lfp_y, linewidth=0.5, color=\"blue\")\n",
    "    axs[i_plot].vlines([t_sz_begin_lfp, t_sz_end_lfp], ymin=np.min(lfp_y), ymax=np.max(lfp_y), color=\"blue\")  # lfp seizure start, end\n",
    "    axs[i_plot].vlines([t_sz_begin_optical, t_sz_end_optical], ymin=np.min(lfp_y), ymax=np.max(lfp_y), color=\"green\")  # optical seizure start, end\n",
    "    axs[i_plot].set_xlim([t_begin_plot, t_end_plot])\n",
    "    i_plot += 1\n",
    "if save_fig:\n",
    "    fpath_out = os.path.join(output_dir, \"sz_begin_end_tmev.pdf\")\n",
    "    plt.savefig(fpath_out, format=\"pdf\", bbox_inches=\"tight\")\n",
    "    print(f\"Saved to {fpath_out}\")\n",
    "plt.show()"
   ]
  },
  {
   "cell_type": "code",
   "execution_count": null,
   "metadata": {},
   "outputs": [],
   "source": [
    "# print the different times\n",
    "for uuid in dict_sz_begin_lfp_s.keys():\n",
    "    t_sz_begin_lfp = dict_sz_begin_lfp_s[uuid]\n",
    "    t_sz_begin_optical = dict_sz_begin_optical_s[uuid]\n",
    "    t_sz_end_lfp = dict_sz_end_lfp_s[uuid]\n",
    "    t_sz_end_optical = dict_sz_end_optical_s[uuid]\n",
    "    print(f\"{uuid}:\\noptical:\\n\\t{t_sz_begin_optical} - {t_sz_end_optical}\\nlfp:\\n\\t{t_sz_begin_lfp} - {t_sz_end_lfp}\\n\")"
   ]
  },
  {
   "cell_type": "markdown",
   "metadata": {},
   "source": [
    "## Show optical sz begin and end for all other recordings (i.e. those without good LFP)"
   ]
  },
  {
   "cell_type": "code",
   "execution_count": 12,
   "metadata": {},
   "outputs": [],
   "source": [
    "uuids_bad_lfp = []\n",
    "for uuid in dict_traces.keys():\n",
    "    if uuid not in dict_sz_begin_lfp_s.keys():\n",
    "        uuids_bad_lfp.append(uuid)"
   ]
  },
  {
   "cell_type": "code",
   "execution_count": 13,
   "metadata": {},
   "outputs": [],
   "source": [
    "n_bad_recordings_with_lfp = 0\n",
    "for uuid in uuids_bad_lfp:\n",
    "    if dict_traces[uuid]['has_lfp']:\n",
    "        n_bad_recordings_with_lfp += 1"
   ]
  },
  {
   "cell_type": "code",
   "execution_count": 14,
   "metadata": {},
   "outputs": [],
   "source": [
    "dict_sz_begin_optical_bad_lfp_s = {\n",
    "    '30bcfb76a771468eab5c2a0bb71038d7': 328.17,\n",
    "    '39f7ef9f661041428bdd57a5b15c7176': 328.2,\n",
    "    '4dea78a01bf5408092f498032d67d84e': 328.27,\n",
    "    '4e2310d2dde845b0908519b7196080e8': 328.21,\n",
    "    '54c31c3151944cfd86043932d3a19b9a': 338.83,\n",
    "    '58dbee01eacf4b7385e0192c812233da': 328.14,\n",
    "    '5cfb012d47f14303a40680d2b333336a': 328.15,\n",
    "    '5ecdd9dc8f13440f9becae3cde5ab574': 328.21,\n",
    "    '74473c5d22e04525acf53f5a5cb799f4': 328.15,\n",
    "    '7753b03a2a554cccaab42f1c0458d742': 339.66,\n",
    "    'a39ed3a880c54f798eff250911f1c92f': 328.23,\n",
    "    'aa66ae0470a14eb08e9bcadedc34ef64': 328.17,\n",
    "    'd158cd12ad77489a827dab1173a933f9': 329.09,\n",
    "    'f0442bebcd1a4291a8d0559eb47df08e': 361.26,\n",
    "    'f481149fa8694621be6116cb84ae2d3c': 351.03\n",
    "}\n",
    "\n",
    "dict_sz_end_optical_bad_lfp_s = {\n",
    "    '30bcfb76a771468eab5c2a0bb71038d7': 388.81,\n",
    "    '39f7ef9f661041428bdd57a5b15c7176': 379.72,\n",
    "    '4dea78a01bf5408092f498032d67d84e': 349,\n",
    "    '4e2310d2dde845b0908519b7196080e8': 359.39,\n",
    "    '54c31c3151944cfd86043932d3a19b9a': 363,\n",
    "    '58dbee01eacf4b7385e0192c812233da': 376.97,\n",
    "    '5cfb012d47f14303a40680d2b333336a': 391,\n",
    "    '5ecdd9dc8f13440f9becae3cde5ab574': 364.77,\n",
    "    '74473c5d22e04525acf53f5a5cb799f4': 392.67,\n",
    "    '7753b03a2a554cccaab42f1c0458d742': 352,\n",
    "    'a39ed3a880c54f798eff250911f1c92f': 364.46,\n",
    "    'aa66ae0470a14eb08e9bcadedc34ef64': 348.92,\n",
    "    'd158cd12ad77489a827dab1173a933f9': 369.21,\n",
    "    'f0442bebcd1a4291a8d0559eb47df08e': 361.46,\n",
    "    'f481149fa8694621be6116cb84ae2d3c': 359\n",
    "}"
   ]
  },
  {
   "cell_type": "code",
   "execution_count": null,
   "metadata": {},
   "outputs": [],
   "source": [
    "n_recordings_bad_lfp = len(uuids_bad_lfp)\n",
    "fig, axs = plt.subplots(n_recordings_bad_lfp + n_bad_recordings_with_lfp, 1,figsize=(15, 10*n_recordings_bad_lfp))\n",
    "i_plot_bad_lfp = 0\n",
    "t_offset_bad_lfp = 5  # +- 5 s to plot\n",
    "for uuid in uuids_bad_lfp:\n",
    "    t_sz_begin_optical = dict_sz_begin_optical_bad_lfp_s[uuid]\n",
    "    t_sz_end_optical = dict_sz_end_optical_bad_lfp_s[uuid]\n",
    "    t_begin_plot = t_sz_begin_optical - t_offset_bad_lfp\n",
    "    t_end_plot = t_sz_end_optical + t_offset_bad_lfp\n",
    "    has_lfp = dict_traces[uuid]['has_lfp']\n",
    "    i_begin_plot = np.searchsorted(dict_traces[uuid]['lv_t_s'], t_begin_plot)\n",
    "    i_end_plot = np.searchsorted(dict_traces[uuid]['lv_t_s'], t_end_plot)\n",
    "\n",
    "    fluo_x = dict_traces[uuid]['lv_t_s'][i_begin_plot:i_end_plot]\n",
    "    fluo_y = dict_traces[uuid]['mean_fluo'][i_begin_plot:i_end_plot]\n",
    "    \n",
    "    if has_lfp:\n",
    "        i_begin_plot_lfp = np.searchsorted(dict_traces[uuid]['lfp_t'], t_begin_plot)\n",
    "        i_end_plot_lfp = np.searchsorted(dict_traces[uuid]['lfp_t'], t_end_plot)\n",
    "        lfp_x = dict_traces[uuid]['lfp_t'][i_begin_plot_lfp:i_end_plot_lfp]\n",
    "        lfp_y = dict_traces[uuid]['lfp_y'][i_begin_plot_lfp:i_end_plot_lfp]\n",
    "    axs[i_plot_bad_lfp].plot(fluo_x, fluo_y, linewidth=0.5, color=\"green\")\n",
    "    axs[i_plot_bad_lfp].set_title(f\"{uuid}: {dict_traces[uuid]['mouse_id']}, {dict_traces[uuid]['window_type']}\")\n",
    "    axs[i_plot_bad_lfp].vlines([t_sz_begin_optical, t_sz_end_optical], ymin=np.min(fluo_y), ymax=np.max(fluo_y), color=\"green\")  # optical seizure start, end\n",
    "    axs[i_plot_bad_lfp].set_xlim([t_begin_plot, t_end_plot])\n",
    "    i_plot_bad_lfp += 1\n",
    "    if has_lfp:\n",
    "        axs[i_plot_bad_lfp].plot(lfp_x, lfp_y, linewidth=0.5, color=\"blue\")\n",
    "        axs[i_plot_bad_lfp].set_xlim([t_begin_plot, t_end_plot])\n",
    "        axs[i_plot_bad_lfp].vlines([t_sz_begin_optical, t_sz_end_optical], ymin=np.min(lfp_y), ymax=np.max(lfp_y), color=\"green\")  # optical seizure start, end\n",
    "        i_plot_bad_lfp += 1\n",
    "\n",
    "if save_fig:\n",
    "    fpath_out = os.path.join(output_dir, \"bad_lfp_tmev.pdf\")\n",
    "    plt.savefig(fpath_out, format=\"pdf\", bbox_inches=\"tight\")\n",
    "    print(f\"Saved to {fpath_out}\")\n",
    "plt.show()"
   ]
  },
  {
   "cell_type": "code",
   "execution_count": null,
   "metadata": {},
   "outputs": [],
   "source": []
  }
 ],
 "metadata": {
  "kernelspec": {
   "display_name": "py2p_310",
   "language": "python",
   "name": "python3"
  },
  "language_info": {
   "codemirror_mode": {
    "name": "ipython",
    "version": 3
   },
   "file_extension": ".py",
   "mimetype": "text/x-python",
   "name": "python",
   "nbconvert_exporter": "python",
   "pygments_lexer": "ipython3",
   "version": "3.10.13"
  }
 },
 "nbformat": 4,
 "nbformat_minor": 2
}
