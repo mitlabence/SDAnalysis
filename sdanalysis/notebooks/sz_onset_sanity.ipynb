{
 "cells": [
  {
   "cell_type": "code",
   "execution_count": 1,
   "metadata": {},
   "outputs": [],
   "source": [
    "import sys\n",
    "import os\n",
    "import pandas as pd\n",
    "notebook_dir = os.getcwd()\n",
    "sys.path.insert(0, os.path.abspath(os.path.join(notebook_dir, '..')))  # Add the project root directory to the path\n",
    "import custom_io as cio\n",
    "import seaborn as sns\n",
    "import matplotlib.pyplot as plt\n",
    "\n",
    "import data_documentation\n",
    "from env_reader import read_env\n",
    "from directionality_analysis import (\n",
    "    get_directionality_files_list,\n",
    "    directionality_files_to_df,\n",
    "    create_seizure_uuid,\n",
    "    replace_multiple_outliers,\n",
    ")"
   ]
  },
  {
   "cell_type": "code",
   "execution_count": null,
   "metadata": {},
   "outputs": [],
   "source": [
    "env_dict = read_env()\n",
    "data_doc = data_documentation.DataDocumentation.from_env_dict(env_dict)"
   ]
  },
  {
   "cell_type": "code",
   "execution_count": null,
   "metadata": {},
   "outputs": [],
   "source": [
    "fpath_assembled_traces = cio.open_file(\"Choose excel file with SD/Sz speed data\")\n",
    "folder = cio.open_dir(\"Select folder with directionality files\")"
   ]
  },
  {
   "cell_type": "code",
   "execution_count": null,
   "metadata": {},
   "outputs": [],
   "source": [
    "analysis_fpaths = get_directionality_files_list(folder)\n",
    "df_onsets = directionality_files_to_df(analysis_fpaths, data_doc)\n",
    "dict_uuid_exp_type = {\n",
    "    uuid: data_doc.get_experiment_type_for_uuid(uuid)\n",
    "    for uuid in df_onsets.uuid.unique()\n",
    "}"
   ]
  }
 ],
 "metadata": {
  "kernelspec": {
   "display_name": "py2p_310",
   "language": "python",
   "name": "python3"
  },
  "language_info": {
   "codemirror_mode": {
    "name": "ipython",
    "version": 3
   },
   "file_extension": ".py",
   "mimetype": "text/x-python",
   "name": "python",
   "nbconvert_exporter": "python",
   "pygments_lexer": "ipython3",
   "version": "3.10.13"
  }
 },
 "nbformat": 4,
 "nbformat_minor": 2
}
