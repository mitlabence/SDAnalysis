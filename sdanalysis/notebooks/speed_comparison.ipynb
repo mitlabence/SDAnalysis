{
 "cells": [
  {
   "cell_type": "markdown",
   "metadata": {},
   "source": [
    "# Sz/SD speed comparison"
   ]
  },
  {
   "cell_type": "code",
   "execution_count": 1,
   "metadata": {},
   "outputs": [],
   "source": [
    "import sys\n",
    "import os\n",
    "import pandas as pd\n",
    "notebook_dir = os.getcwd()\n",
    "sys.path.insert(0, os.path.abspath(os.path.join(notebook_dir, '..')))  # Add the project root directory to the path\n",
    "import custom_io as cio\n",
    "import seaborn as sns\n",
    "import matplotlib.pyplot as plt"
   ]
  },
  {
   "cell_type": "code",
   "execution_count": 2,
   "metadata": {},
   "outputs": [],
   "source": [
    "fpath = cio.open_file(\"Choose excel file with SD/Sz speed data\")"
   ]
  },
  {
   "cell_type": "code",
   "execution_count": 3,
   "metadata": {},
   "outputs": [],
   "source": [
    "df = pd.read_excel(fpath)"
   ]
  },
  {
   "cell_type": "code",
   "execution_count": 4,
   "metadata": {},
   "outputs": [],
   "source": [
    "df_tmev = df[df[\"exp_type\"] == \"tmev\"]"
   ]
  },
  {
   "cell_type": "code",
   "execution_count": null,
   "metadata": {},
   "outputs": [],
   "source": [
    "fig = plt.figure()\n",
    "sns.lineplot(data=df_tmev[(df_tmev[\"window_type\"] == \"CA1\")], x=\"i_wave\", y=\"v_mmpmin\", hue=\"uuid\",)\n",
    "plt.suptitle(\"TMEV CA1 Sz/sSD speeds\")\n",
    "plt.xticks([0, 1, 2], [\"Sz\", \"SD1\", \"SD2\"])\n",
    "plt.legend([],[], frameon=False)  # turn off legend\n",
    "plt.show()"
   ]
  },
  {
   "cell_type": "code",
   "execution_count": null,
   "metadata": {},
   "outputs": [],
   "source": [
    "fig = plt.figure()\n",
    "sns.lineplot(data=df_tmev[(df_tmev[\"window_type\"] == \"CA1\") & (df_tmev[\"i_wave\"] > 0)], x=\"i_wave\", y=\"v_mmpmin\", hue=\"uuid\",)\n",
    "plt.suptitle(\"TMEV CA1 SD speeds\")\n",
    "ax = plt.gca()\n",
    "ax.set_ylabel(\"speed (mm/min)\")\n",
    "plt.xticks([1, 2], [\"SD1\", \"SD2\"])\n",
    "plt.legend([],[], frameon=False)  # turn off legend\n",
    "plt.show()"
   ]
  },
  {
   "cell_type": "code",
   "execution_count": null,
   "metadata": {},
   "outputs": [],
   "source": [
    "fig = plt.figure()\n",
    "plt.suptitle(\"Sz onset speed\")\n",
    "sns.barplot(data=df_tmev[df_tmev[\"i_wave\"] == 0], x=\"window_type\", y=\"v_mmpmin\")\n",
    "ax = plt.gca()\n",
    "ax.set_ylabel(\"onset speed (mm/min)\")\n",
    "plt.show()"
   ]
  },
  {
   "cell_type": "code",
   "execution_count": null,
   "metadata": {},
   "outputs": [],
   "source": [
    "sns.barplot(data=df_tmev[df_tmev[\"i_wave\"] == 0], x=\"window_type\", y=\"v_umps\", hue=\"exp_type\")  # compare Sz speed CA1 vs CTX\n",
    "plt.legend([],[], frameon=False)  # turn off legend\n",
    "plt.suptitle(\"TMEV Sz onset speed by window type\")\n",
    "plt.show()"
   ]
  },
  {
   "cell_type": "code",
   "execution_count": null,
   "metadata": {},
   "outputs": [],
   "source": [
    "# add sanity check with vertical lines as onset; find sz onset using mean fluo"
   ]
  }
 ],
 "metadata": {
  "kernelspec": {
   "display_name": "py2p_310",
   "language": "python",
   "name": "python3"
  },
  "language_info": {
   "codemirror_mode": {
    "name": "ipython",
    "version": 3
   },
   "file_extension": ".py",
   "mimetype": "text/x-python",
   "name": "python",
   "nbconvert_exporter": "python",
   "pygments_lexer": "ipython3",
   "version": "3.10.13"
  }
 },
 "nbformat": 4,
 "nbformat_minor": 2
}
