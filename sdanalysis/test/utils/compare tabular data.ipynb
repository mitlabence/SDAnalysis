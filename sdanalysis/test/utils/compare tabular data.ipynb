{
 "cells": [
  {
   "cell_type": "code",
   "execution_count": 1,
   "metadata": {},
   "outputs": [],
   "source": [
    "import sys\n",
    "import os\n",
    "import pandas as pd\n",
    "notebook_dir = os.getcwd()\n",
    "sys.path.insert(0, os.path.abspath(os.path.join(notebook_dir, '..\\..')))  # Add the project root directory to the path\n",
    "import dataframe_comparison as dc\n",
    "import custom_io as cio"
   ]
  },
  {
   "cell_type": "code",
   "execution_count": 2,
   "metadata": {},
   "outputs": [],
   "source": [
    "fpath1 = cio.open_file(\"Select the first excel file to compare\")\n",
    "fpath2 = cio.open_file(\"Select the second excel file to compare\")"
   ]
  },
  {
   "cell_type": "code",
   "execution_count": null,
   "metadata": {},
   "outputs": [],
   "source": [
    "assert os.path.exists(fpath1), \"The first file does not exist\"\n",
    "assert os.path.exists(fpath2), \"The second file does not exist\"\n",
    "assert os.path.splitext(fpath1)[1] == '.xlsx', \"The first file must be an excel file\"\n",
    "assert os.path.splitext(fpath2)[1] == '.xlsx', \"The second file must be an excel file\"\n",
    "print(f\"Chosen files:\\n\\t{fpath1}\\n\\t{fpath2}\")"
   ]
  },
  {
   "cell_type": "code",
   "execution_count": 8,
   "metadata": {},
   "outputs": [],
   "source": [
    "df1 = pd.read_excel(fpath1)\n",
    "df2 = pd.read_excel(fpath2)"
   ]
  },
  {
   "cell_type": "code",
   "execution_count": 12,
   "metadata": {},
   "outputs": [],
   "source": [
    "df1[\"totdist_abs\"] = 3*df1[\"totdist_abs\"]"
   ]
  },
  {
   "cell_type": "code",
   "execution_count": 13,
   "metadata": {},
   "outputs": [],
   "source": [
    "folder_out = cio.open_dir(\"Select the output folder\")"
   ]
  },
  {
   "cell_type": "code",
   "execution_count": 14,
   "metadata": {},
   "outputs": [],
   "source": [
    "fpath_out = os.path.join(folder_out, cio.get_filename_with_date(\"comparison\") + \".xlsx\")"
   ]
  },
  {
   "cell_type": "code",
   "execution_count": null,
   "metadata": {},
   "outputs": [],
   "source": [
    "dc.write_diff_to_excel(df1, df2, fpath_out, both_nan_equal=True)\n",
    "print(f\"Comparison saved to:\\n\\t{fpath_out}\")"
   ]
  },
  {
   "cell_type": "code",
   "execution_count": null,
   "metadata": {},
   "outputs": [],
   "source": []
  }
 ],
 "metadata": {
  "kernelspec": {
   "display_name": "py2p_310",
   "language": "python",
   "name": "python3"
  },
  "language_info": {
   "codemirror_mode": {
    "name": "ipython",
    "version": 3
   },
   "file_extension": ".py",
   "mimetype": "text/x-python",
   "name": "python",
   "nbconvert_exporter": "python",
   "pygments_lexer": "ipython3",
   "version": "3.10.13"
  }
 },
 "nbformat": 4,
 "nbformat_minor": 2
}
